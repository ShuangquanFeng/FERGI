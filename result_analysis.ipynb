{
 "cells": [
  {
   "cell_type": "markdown",
   "id": "20586db9-e339-40db-a785-309860374a0e",
   "metadata": {},
   "source": [
    "<p style=\"font-family: 'Times New Roman', Times, serif; font-size:24px; color: black;\">This file generates all figures and displays all results reported in the paper.</p>"
   ]
  },
  {
   "cell_type": "code",
   "execution_count": 1,
   "id": "92febb5e-9a96-43c6-9d5d-317fbdd9843f",
   "metadata": {},
   "outputs": [],
   "source": [
    "import os\n",
    "import pickle as pkl\n",
    "import json\n",
    "import numpy as np\n",
    "import pandas as pd\n",
    "from scipy import stats\n",
    "import matplotlib.pyplot as plt\n",
    "import matplotlib.colors as mcolors\n",
    "import matplotlib.colorbar as mcolorbar\n",
    "from matplotlib.cm import ScalarMappable\n",
    "import seaborn as sns\n",
    "from collections import defaultdict\n",
    "from config import *"
   ]
  },
  {
   "cell_type": "code",
   "execution_count": 2,
   "id": "innovative-privacy",
   "metadata": {},
   "outputs": [],
   "source": [
    "os.makedirs(figures_rootdir, exist_ok=True)"
   ]
  },
  {
   "cell_type": "code",
   "execution_count": 3,
   "id": "incident-deficit",
   "metadata": {},
   "outputs": [],
   "source": [
    "font_size = 9\n",
    "font_name = 'Times New Roman'\n",
    "font_dict = {'family': font_name, 'size': font_size}\n",
    "plt.rcParams['font.size'] = font_size\n",
    "plt.rcParams['font.family'] = font_name"
   ]
  },
  {
   "cell_type": "code",
   "execution_count": 4,
   "id": "smooth-content",
   "metadata": {},
   "outputs": [
    {
     "name": "stderr",
     "output_type": "stream",
     "text": [
      "<ipython-input-4-63247009c480>:8: FutureWarning: Behavior when concatenating bool-dtype and numeric-dtype arrays is deprecated; in a future version these will cast to object dtype (instead of coercing bools to numeric values). To retain the old behavior, explicitly cast bool-dtype arrays to numeric dtype.\n",
      "  df_reaction = pd.concat(dfs)\n"
     ]
    }
   ],
   "source": [
    "dfs = []\n",
    "for user_id in user_id_list:\n",
    "    df_reaction = pd.read_csv(os.path.join(prep_rootdir, 'preprocessed_reaction_data', f\"{user_id}.csv\"))\n",
    "    df_images = pd.read_csv(os.path.join(prep_rootdir, 'preprocessed_image_data', f\"{user_id}.csv\"))\n",
    "    df = pd.merge(df_reaction, df_images, on = ['session_index', 'image_index'], how='inner')\n",
    "    df['user_id'] = user_id\n",
    "    dfs.append(df)\n",
    "df_reaction = pd.concat(dfs)"
   ]
  },
  {
   "cell_type": "markdown",
   "id": "11b3167e-4775-4be8-87ea-9ca2f560d3ab",
   "metadata": {},
   "source": [
    "<p style=\"font-family: 'Times New Roman', Times, serif; font-size:24px; color: black;\">5.1 Statistical Analysis</p>"
   ]
  },
  {
   "cell_type": "code",
   "execution_count": 5,
   "id": "prepared-wallet",
   "metadata": {},
   "outputs": [],
   "source": [
    "p_threshold = 0.05 / (12*8)"
   ]
  },
  {
   "cell_type": "code",
   "execution_count": 6,
   "id": "accomplished-theme",
   "metadata": {},
   "outputs": [],
   "source": [
    "rating = 'overall_rating'\n",
    "df_reaction_filtered = df_reaction[df_reaction[rating] > 0].copy()\n",
    "df_reaction_filtered[f'{rating}_deviation'] = np.abs(df_reaction_filtered[rating] - 4)\n",
    "df_ratings = pd.DataFrame({'AU': DISFA_AUs,\n",
    "                           'rho_sequantial':\n",
    "                           [stats.spearmanr(df_reaction_filtered[rating],\n",
    "                                            df_reaction_filtered[f'AU{AU}_activation_value'])[0] for AU in DISFA_AUs],\n",
    "                           'p_value_sequential':\n",
    "                           [stats.spearmanr(df_reaction_filtered[rating],\n",
    "                                            df_reaction_filtered[f'AU{AU}_activation_value'])[1] for AU in DISFA_AUs],\n",
    "                           'rho_symmetric':\n",
    "                           [stats.spearmanr(df_reaction_filtered[f'{rating}_deviation'],\n",
    "                                            df_reaction_filtered[f'AU{AU}_activation_value'])[0] for AU in DISFA_AUs],\n",
    "                           'p_value_symmetric':\n",
    "                           [stats.spearmanr(df_reaction_filtered[f'{rating}_deviation'],\n",
    "                                                df_reaction_filtered[f'AU{AU}_activation_value'])[1] for AU in DISFA_AUs]})\n",
    "df_ratings = df_ratings.set_index('AU')"
   ]
  },
  {
   "cell_type": "code",
   "execution_count": 7,
   "id": "reflected-external",
   "metadata": {},
   "outputs": [
    {
     "data": {
      "text/html": [
       "<div>\n",
       "<style scoped>\n",
       "    .dataframe tbody tr th:only-of-type {\n",
       "        vertical-align: middle;\n",
       "    }\n",
       "\n",
       "    .dataframe tbody tr th {\n",
       "        vertical-align: top;\n",
       "    }\n",
       "\n",
       "    .dataframe thead th {\n",
       "        text-align: right;\n",
       "    }\n",
       "</style>\n",
       "<table border=\"1\" class=\"dataframe\">\n",
       "  <thead>\n",
       "    <tr style=\"text-align: right;\">\n",
       "      <th></th>\n",
       "      <th>rho_sequantial</th>\n",
       "      <th>p_value_sequential</th>\n",
       "      <th>rho_symmetric</th>\n",
       "      <th>p_value_symmetric</th>\n",
       "    </tr>\n",
       "    <tr>\n",
       "      <th>AU</th>\n",
       "      <th></th>\n",
       "      <th></th>\n",
       "      <th></th>\n",
       "      <th></th>\n",
       "    </tr>\n",
       "  </thead>\n",
       "  <tbody>\n",
       "    <tr>\n",
       "      <th>1</th>\n",
       "      <td>0.064884</td>\n",
       "      <td>2.312202e-03</td>\n",
       "      <td>0.099987</td>\n",
       "      <td>2.574945e-06</td>\n",
       "    </tr>\n",
       "    <tr>\n",
       "      <th>2</th>\n",
       "      <td>0.087530</td>\n",
       "      <td>3.890267e-05</td>\n",
       "      <td>0.110589</td>\n",
       "      <td>1.954342e-07</td>\n",
       "    </tr>\n",
       "    <tr>\n",
       "      <th>4</th>\n",
       "      <td>-0.177750</td>\n",
       "      <td>4.271928e-17</td>\n",
       "      <td>-0.034339</td>\n",
       "      <td>1.071111e-01</td>\n",
       "    </tr>\n",
       "    <tr>\n",
       "      <th>5</th>\n",
       "      <td>-0.040861</td>\n",
       "      <td>5.516557e-02</td>\n",
       "      <td>0.077031</td>\n",
       "      <td>2.959130e-04</td>\n",
       "    </tr>\n",
       "    <tr>\n",
       "      <th>6</th>\n",
       "      <td>-0.013997</td>\n",
       "      <td>5.114170e-01</td>\n",
       "      <td>0.064320</td>\n",
       "      <td>2.524922e-03</td>\n",
       "    </tr>\n",
       "    <tr>\n",
       "      <th>9</th>\n",
       "      <td>-0.093508</td>\n",
       "      <td>1.102355e-05</td>\n",
       "      <td>0.064120</td>\n",
       "      <td>2.604498e-03</td>\n",
       "    </tr>\n",
       "    <tr>\n",
       "      <th>12</th>\n",
       "      <td>0.080999</td>\n",
       "      <td>1.413158e-04</td>\n",
       "      <td>0.142731</td>\n",
       "      <td>1.697354e-11</td>\n",
       "    </tr>\n",
       "    <tr>\n",
       "      <th>15</th>\n",
       "      <td>-0.039791</td>\n",
       "      <td>6.185802e-02</td>\n",
       "      <td>-0.014756</td>\n",
       "      <td>4.887846e-01</td>\n",
       "    </tr>\n",
       "    <tr>\n",
       "      <th>17</th>\n",
       "      <td>-0.000212</td>\n",
       "      <td>9.920774e-01</td>\n",
       "      <td>0.015411</td>\n",
       "      <td>4.696928e-01</td>\n",
       "    </tr>\n",
       "    <tr>\n",
       "      <th>20</th>\n",
       "      <td>0.020286</td>\n",
       "      <td>3.412544e-01</td>\n",
       "      <td>0.083895</td>\n",
       "      <td>8.066989e-05</td>\n",
       "    </tr>\n",
       "    <tr>\n",
       "      <th>25</th>\n",
       "      <td>-0.034590</td>\n",
       "      <td>1.045663e-01</td>\n",
       "      <td>0.070691</td>\n",
       "      <td>8.994759e-04</td>\n",
       "    </tr>\n",
       "    <tr>\n",
       "      <th>26</th>\n",
       "      <td>-0.035392</td>\n",
       "      <td>9.676725e-02</td>\n",
       "      <td>0.056783</td>\n",
       "      <td>7.680751e-03</td>\n",
       "    </tr>\n",
       "  </tbody>\n",
       "</table>\n",
       "</div>"
      ],
      "text/plain": [
       "    rho_sequantial  p_value_sequential  rho_symmetric  p_value_symmetric\n",
       "AU                                                                      \n",
       "1         0.064884        2.312202e-03       0.099987       2.574945e-06\n",
       "2         0.087530        3.890267e-05       0.110589       1.954342e-07\n",
       "4        -0.177750        4.271928e-17      -0.034339       1.071111e-01\n",
       "5        -0.040861        5.516557e-02       0.077031       2.959130e-04\n",
       "6        -0.013997        5.114170e-01       0.064320       2.524922e-03\n",
       "9        -0.093508        1.102355e-05       0.064120       2.604498e-03\n",
       "12        0.080999        1.413158e-04       0.142731       1.697354e-11\n",
       "15       -0.039791        6.185802e-02      -0.014756       4.887846e-01\n",
       "17       -0.000212        9.920774e-01       0.015411       4.696928e-01\n",
       "20        0.020286        3.412544e-01       0.083895       8.066989e-05\n",
       "25       -0.034590        1.045663e-01       0.070691       8.994759e-04\n",
       "26       -0.035392        9.676725e-02       0.056783       7.680751e-03"
      ]
     },
     "execution_count": 7,
     "metadata": {},
     "output_type": "execute_result"
    }
   ],
   "source": [
    "df_ratings"
   ]
  },
  {
   "cell_type": "code",
   "execution_count": 8,
   "id": "international-allen",
   "metadata": {},
   "outputs": [],
   "source": [
    "seq_colors = [sns.color_palette(\"Blues\", as_cmap=True)(i) for i in np.linspace(0.8, 0.2, 7)]\n",
    "sym_colors = [sns.color_palette(\"YlOrBr\", as_cmap=True)(i) for i in [0.8, 0.6, 0.4, 0.2, 0.4, 0.6, 0.8]]"
   ]
  },
  {
   "cell_type": "code",
   "execution_count": 9,
   "id": "popular-tobacco",
   "metadata": {},
   "outputs": [
    {
     "data": {
      "image/png": "[encoded data removed]",
      "text/plain": [
       "<Figure size 122.4x108 with 1 Axes>"
      ]
     },
     "metadata": {
      "needs_background": "light"
     },
     "output_type": "display_data"
    },
    {
     "data": {
      "image/png": "[encoded data removed]",
      "text/plain": [
       "<Figure size 122.4x108 with 1 Axes>"
      ]
     },
     "metadata": {
      "needs_background": "light"
     },
     "output_type": "display_data"
    },
    {
     "data": {
      "image/png": "[encoded data removed]",
      "text/plain": [
       "<Figure size 122.4x108 with 1 Axes>"
      ]
     },
     "metadata": {
      "needs_background": "light"
     },
     "output_type": "display_data"
    },
    {
     "data": {
      "image/png": "[encoded data removed]",
      "text/plain": [
       "<Figure size 122.4x108 with 1 Axes>"
      ]
     },
     "metadata": {
      "needs_background": "light"
     },
     "output_type": "display_data"
    },
    {
     "data": {
      "image/png": "[encoded data removed]",
      "text/plain": [
       "<Figure size 122.4x108 with 1 Axes>"
      ]
     },
     "metadata": {
      "needs_background": "light"
     },
     "output_type": "display_data"
    },
    {
     "data": {
      "image/png": "[encoded data removed]",
      "text/plain": [
       "<Figure size 122.4x108 with 1 Axes>"
      ]
     },
     "metadata": {
      "needs_background": "light"
     },
     "output_type": "display_data"
    },
    {
     "data": {
      "image/png": "[encoded data removed]",
      "text/plain": [
       "<Figure size 122.4x108 with 1 Axes>"
      ]
     },
     "metadata": {
      "needs_background": "light"
     },
     "output_type": "display_data"
    }
   ],
   "source": [
    "for AU in DISFA_AUs:\n",
    "    if df_ratings['p_value_sequential'][AU] <= p_threshold or df_ratings['p_value_symmetric'][AU] <= p_threshold:\n",
    "        if df_ratings['p_value_sequential'][AU] <= df_ratings['p_value_symmetric'][AU]:\n",
    "            palette = seq_colors\n",
    "        else:\n",
    "            palette = sym_colors\n",
    "    else:\n",
    "        continue\n",
    "    \n",
    "    plt.figure(figsize = [1.7, 1.5])\n",
    "    sns.boxplot(data = df_reaction_filtered, x = rating, y = f'AU{AU}_activation_value', width = 0.6, palette=palette, showfliers=False, whis=0)#, scale='count')\n",
    "    plt.tick_params(axis='both', which='major', pad=1)\n",
    "    plt.xlabel(\"Overall Rating\", labelpad=0)\n",
    "    plt.ylabel(f\"AU{AU} Activation Value\", labelpad=0)\n",
    "    plt.xlim([-0.5, 6.5])\n",
    "    plt.ylim([0, 1.5])\n",
    "    plt.yticks([0, 0.5, 1, 1.5])\n",
    "    plt.tight_layout()\n",
    "    \n",
    "    plt.savefig(os.path.join(figures_rootdir, f\"overall_rating_and_AU{AU}_activation_value.pdf\"), format='pdf', bbox_inches='tight')\n",
    "    plt.show()"
   ]
  },
  {
   "cell_type": "code",
   "execution_count": 10,
   "id": "waiting-distribution",
   "metadata": {},
   "outputs": [
    {
     "name": "stdout",
     "output_type": "stream",
     "text": [
      "Number of ratings of 1: 104\n",
      "Number of ratings of 2: 185\n",
      "Number of ratings of 3: 258\n",
      "Number of ratings of 4: 456\n",
      "Number of ratings of 5: 581\n",
      "Number of ratings of 6: 403\n",
      "Number of ratings of 7: 216\n"
     ]
    }
   ],
   "source": [
    "for rating in [1, 2, 3, 4, 5, 6, 7]:\n",
    "    print(f\"Number of ratings of {rating}: {np.sum(df_reaction_filtered['overall_rating'] == rating)}\")"
   ]
  },
  {
   "cell_type": "code",
   "execution_count": 11,
   "id": "responsible-round",
   "metadata": {},
   "outputs": [],
   "source": [
    "df_emotions_rho = pd.DataFrame({f\"{option}_z\":\n",
    "                                [stats.ranksums(df_reaction[df_reaction[option] == True][f'AU{AU}_activation_value'],\n",
    "                                                df_reaction[df_reaction[option] == False][f'AU{AU}_activation_value'])[0] for AU in DISFA_AUs] for option in reaction_options})\n",
    "df_emotions_p = pd.DataFrame({f\"{option}_p\":\n",
    "                              [stats.ranksums(df_reaction[df_reaction[option] == True][f'AU{AU}_activation_value'],\n",
    "                                              df_reaction[df_reaction[option] == False][f'AU{AU}_activation_value'])[1] for AU in DISFA_AUs] for option in reaction_options})\n",
    "df_emotions = pd.concat([df_emotions_rho, df_emotions_p], axis=1)\n",
    "df_emotions = df_emotions[[s for p in [[f\"{option}_z\", f\"{option}_p\"] for option in reaction_options] for s in p]]\n",
    "df_emotions['AU'] = DISFA_AUs\n",
    "df_emotions = df_emotions.set_index('AU')"
   ]
  },
  {
   "cell_type": "code",
   "execution_count": 12,
   "id": "english-craft",
   "metadata": {},
   "outputs": [
    {
     "data": {
      "text/html": [
       "<div>\n",
       "<style scoped>\n",
       "    .dataframe tbody tr th:only-of-type {\n",
       "        vertical-align: middle;\n",
       "    }\n",
       "\n",
       "    .dataframe tbody tr th {\n",
       "        vertical-align: top;\n",
       "    }\n",
       "\n",
       "    .dataframe thead th {\n",
       "        text-align: right;\n",
       "    }\n",
       "</style>\n",
       "<table border=\"1\" class=\"dataframe\">\n",
       "  <thead>\n",
       "    <tr style=\"text-align: right;\">\n",
       "      <th></th>\n",
       "      <th>disappointed_z</th>\n",
       "      <th>disappointed_p</th>\n",
       "      <th>satisfied_z</th>\n",
       "      <th>satisfied_p</th>\n",
       "      <th>surprised_z</th>\n",
       "      <th>surprised_p</th>\n",
       "      <th>disgusted_z</th>\n",
       "      <th>disgusted_p</th>\n",
       "      <th>amused_z</th>\n",
       "      <th>amused_p</th>\n",
       "      <th>scared_z</th>\n",
       "      <th>scared_p</th>\n",
       "    </tr>\n",
       "    <tr>\n",
       "      <th>AU</th>\n",
       "      <th></th>\n",
       "      <th></th>\n",
       "      <th></th>\n",
       "      <th></th>\n",
       "      <th></th>\n",
       "      <th></th>\n",
       "      <th></th>\n",
       "      <th></th>\n",
       "      <th></th>\n",
       "      <th></th>\n",
       "      <th></th>\n",
       "      <th></th>\n",
       "    </tr>\n",
       "  </thead>\n",
       "  <tbody>\n",
       "    <tr>\n",
       "      <th>1</th>\n",
       "      <td>-4.253206</td>\n",
       "      <td>2.107315e-05</td>\n",
       "      <td>-1.634018</td>\n",
       "      <td>1.022551e-01</td>\n",
       "      <td>-0.121693</td>\n",
       "      <td>0.903142</td>\n",
       "      <td>1.709416</td>\n",
       "      <td>8.737392e-02</td>\n",
       "      <td>-1.456186</td>\n",
       "      <td>1.453411e-01</td>\n",
       "      <td>1.445043</td>\n",
       "      <td>1.484457e-01</td>\n",
       "    </tr>\n",
       "    <tr>\n",
       "      <th>2</th>\n",
       "      <td>-5.823828</td>\n",
       "      <td>5.751487e-09</td>\n",
       "      <td>-1.364081</td>\n",
       "      <td>1.725420e-01</td>\n",
       "      <td>0.462670</td>\n",
       "      <td>0.643601</td>\n",
       "      <td>1.808029</td>\n",
       "      <td>7.060196e-02</td>\n",
       "      <td>-0.532655</td>\n",
       "      <td>5.942721e-01</td>\n",
       "      <td>0.988958</td>\n",
       "      <td>3.226837e-01</td>\n",
       "    </tr>\n",
       "    <tr>\n",
       "      <th>4</th>\n",
       "      <td>4.815768</td>\n",
       "      <td>1.466347e-06</td>\n",
       "      <td>-9.070811</td>\n",
       "      <td>1.181345e-19</td>\n",
       "      <td>1.765344</td>\n",
       "      <td>0.077506</td>\n",
       "      <td>8.338158</td>\n",
       "      <td>7.545642e-17</td>\n",
       "      <td>-1.631271</td>\n",
       "      <td>1.028331e-01</td>\n",
       "      <td>5.600945</td>\n",
       "      <td>2.131867e-08</td>\n",
       "    </tr>\n",
       "    <tr>\n",
       "      <th>5</th>\n",
       "      <td>-1.491916</td>\n",
       "      <td>1.357211e-01</td>\n",
       "      <td>-6.617325</td>\n",
       "      <td>3.657557e-11</td>\n",
       "      <td>0.036812</td>\n",
       "      <td>0.970635</td>\n",
       "      <td>3.935649</td>\n",
       "      <td>8.297220e-05</td>\n",
       "      <td>-0.852329</td>\n",
       "      <td>3.940316e-01</td>\n",
       "      <td>4.387261</td>\n",
       "      <td>1.147870e-05</td>\n",
       "    </tr>\n",
       "    <tr>\n",
       "      <th>6</th>\n",
       "      <td>-1.289209</td>\n",
       "      <td>1.973253e-01</td>\n",
       "      <td>-2.747972</td>\n",
       "      <td>5.996519e-03</td>\n",
       "      <td>2.103461</td>\n",
       "      <td>0.035425</td>\n",
       "      <td>2.538604</td>\n",
       "      <td>1.112956e-02</td>\n",
       "      <td>6.998175</td>\n",
       "      <td>2.593186e-12</td>\n",
       "      <td>0.875714</td>\n",
       "      <td>3.811853e-01</td>\n",
       "    </tr>\n",
       "    <tr>\n",
       "      <th>9</th>\n",
       "      <td>1.943151</td>\n",
       "      <td>5.199795e-02</td>\n",
       "      <td>-6.927022</td>\n",
       "      <td>4.297908e-12</td>\n",
       "      <td>3.778477</td>\n",
       "      <td>0.000158</td>\n",
       "      <td>4.866843</td>\n",
       "      <td>1.133948e-06</td>\n",
       "      <td>5.008218</td>\n",
       "      <td>5.493621e-07</td>\n",
       "      <td>2.798154</td>\n",
       "      <td>5.139568e-03</td>\n",
       "    </tr>\n",
       "    <tr>\n",
       "      <th>12</th>\n",
       "      <td>-4.863989</td>\n",
       "      <td>1.150434e-06</td>\n",
       "      <td>0.193034</td>\n",
       "      <td>8.469321e-01</td>\n",
       "      <td>4.289125</td>\n",
       "      <td>0.000018</td>\n",
       "      <td>-0.509093</td>\n",
       "      <td>6.106874e-01</td>\n",
       "      <td>9.153541</td>\n",
       "      <td>5.509725e-20</td>\n",
       "      <td>0.044851</td>\n",
       "      <td>9.642259e-01</td>\n",
       "    </tr>\n",
       "    <tr>\n",
       "      <th>15</th>\n",
       "      <td>0.323521</td>\n",
       "      <td>7.463007e-01</td>\n",
       "      <td>-1.285764</td>\n",
       "      <td>1.985255e-01</td>\n",
       "      <td>2.837796</td>\n",
       "      <td>0.004543</td>\n",
       "      <td>2.957602</td>\n",
       "      <td>3.100419e-03</td>\n",
       "      <td>2.732250</td>\n",
       "      <td>6.290341e-03</td>\n",
       "      <td>2.761462</td>\n",
       "      <td>5.754315e-03</td>\n",
       "    </tr>\n",
       "    <tr>\n",
       "      <th>17</th>\n",
       "      <td>-2.413584</td>\n",
       "      <td>1.579651e-02</td>\n",
       "      <td>0.437148</td>\n",
       "      <td>6.620038e-01</td>\n",
       "      <td>2.846647</td>\n",
       "      <td>0.004418</td>\n",
       "      <td>1.834307</td>\n",
       "      <td>6.660847e-02</td>\n",
       "      <td>2.847279</td>\n",
       "      <td>4.409471e-03</td>\n",
       "      <td>-0.429550</td>\n",
       "      <td>6.675227e-01</td>\n",
       "    </tr>\n",
       "    <tr>\n",
       "      <th>20</th>\n",
       "      <td>-2.604854</td>\n",
       "      <td>9.191345e-03</td>\n",
       "      <td>0.407788</td>\n",
       "      <td>6.834292e-01</td>\n",
       "      <td>3.337323</td>\n",
       "      <td>0.000846</td>\n",
       "      <td>0.523242</td>\n",
       "      <td>6.008059e-01</td>\n",
       "      <td>6.116420</td>\n",
       "      <td>9.570102e-10</td>\n",
       "      <td>1.400016</td>\n",
       "      <td>1.615085e-01</td>\n",
       "    </tr>\n",
       "    <tr>\n",
       "      <th>25</th>\n",
       "      <td>-2.718431</td>\n",
       "      <td>6.559229e-03</td>\n",
       "      <td>-3.791213</td>\n",
       "      <td>1.499132e-04</td>\n",
       "      <td>4.006885</td>\n",
       "      <td>0.000062</td>\n",
       "      <td>1.616289</td>\n",
       "      <td>1.060318e-01</td>\n",
       "      <td>3.850483</td>\n",
       "      <td>1.178851e-04</td>\n",
       "      <td>2.474391</td>\n",
       "      <td>1.334635e-02</td>\n",
       "    </tr>\n",
       "    <tr>\n",
       "      <th>26</th>\n",
       "      <td>-3.359249</td>\n",
       "      <td>7.815469e-04</td>\n",
       "      <td>-3.229266</td>\n",
       "      <td>1.241082e-03</td>\n",
       "      <td>4.447767</td>\n",
       "      <td>0.000009</td>\n",
       "      <td>2.198295</td>\n",
       "      <td>2.792810e-02</td>\n",
       "      <td>2.490555</td>\n",
       "      <td>1.275436e-02</td>\n",
       "      <td>2.214500</td>\n",
       "      <td>2.679438e-02</td>\n",
       "    </tr>\n",
       "  </tbody>\n",
       "</table>\n",
       "</div>"
      ],
      "text/plain": [
       "    disappointed_z  disappointed_p  satisfied_z   satisfied_p  surprised_z  \\\n",
       "AU                                                                           \n",
       "1        -4.253206    2.107315e-05    -1.634018  1.022551e-01    -0.121693   \n",
       "2        -5.823828    5.751487e-09    -1.364081  1.725420e-01     0.462670   \n",
       "4         4.815768    1.466347e-06    -9.070811  1.181345e-19     1.765344   \n",
       "5        -1.491916    1.357211e-01    -6.617325  3.657557e-11     0.036812   \n",
       "6        -1.289209    1.973253e-01    -2.747972  5.996519e-03     2.103461   \n",
       "9         1.943151    5.199795e-02    -6.927022  4.297908e-12     3.778477   \n",
       "12       -4.863989    1.150434e-06     0.193034  8.469321e-01     4.289125   \n",
       "15        0.323521    7.463007e-01    -1.285764  1.985255e-01     2.837796   \n",
       "17       -2.413584    1.579651e-02     0.437148  6.620038e-01     2.846647   \n",
       "20       -2.604854    9.191345e-03     0.407788  6.834292e-01     3.337323   \n",
       "25       -2.718431    6.559229e-03    -3.791213  1.499132e-04     4.006885   \n",
       "26       -3.359249    7.815469e-04    -3.229266  1.241082e-03     4.447767   \n",
       "\n",
       "    surprised_p  disgusted_z   disgusted_p  amused_z      amused_p  scared_z  \\\n",
       "AU                                                                             \n",
       "1      0.903142     1.709416  8.737392e-02 -1.456186  1.453411e-01  1.445043   \n",
       "2      0.643601     1.808029  7.060196e-02 -0.532655  5.942721e-01  0.988958   \n",
       "4      0.077506     8.338158  7.545642e-17 -1.631271  1.028331e-01  5.600945   \n",
       "5      0.970635     3.935649  8.297220e-05 -0.852329  3.940316e-01  4.387261   \n",
       "6      0.035425     2.538604  1.112956e-02  6.998175  2.593186e-12  0.875714   \n",
       "9      0.000158     4.866843  1.133948e-06  5.008218  5.493621e-07  2.798154   \n",
       "12     0.000018    -0.509093  6.106874e-01  9.153541  5.509725e-20  0.044851   \n",
       "15     0.004543     2.957602  3.100419e-03  2.732250  6.290341e-03  2.761462   \n",
       "17     0.004418     1.834307  6.660847e-02  2.847279  4.409471e-03 -0.429550   \n",
       "20     0.000846     0.523242  6.008059e-01  6.116420  9.570102e-10  1.400016   \n",
       "25     0.000062     1.616289  1.060318e-01  3.850483  1.178851e-04  2.474391   \n",
       "26     0.000009     2.198295  2.792810e-02  2.490555  1.275436e-02  2.214500   \n",
       "\n",
       "        scared_p  \n",
       "AU                \n",
       "1   1.484457e-01  \n",
       "2   3.226837e-01  \n",
       "4   2.131867e-08  \n",
       "5   1.147870e-05  \n",
       "6   3.811853e-01  \n",
       "9   5.139568e-03  \n",
       "12  9.642259e-01  \n",
       "15  5.754315e-03  \n",
       "17  6.675227e-01  \n",
       "20  1.615085e-01  \n",
       "25  1.334635e-02  \n",
       "26  2.679438e-02  "
      ]
     },
     "execution_count": 12,
     "metadata": {},
     "output_type": "execute_result"
    }
   ],
   "source": [
    "df_emotions"
   ]
  },
  {
   "cell_type": "code",
   "execution_count": 13,
   "id": "electronic-assembly",
   "metadata": {},
   "outputs": [
    {
     "data": {
      "image/png": "[encoded data removed]",
      "text/plain": [
       "<Figure size 109.44x111.6 with 1 Axes>"
      ]
     },
     "metadata": {
      "needs_background": "light"
     },
     "output_type": "display_data"
    },
    {
     "data": {
      "image/png": "[encoded data removed]",
      "text/plain": [
       "<Figure size 109.44x111.6 with 1 Axes>"
      ]
     },
     "metadata": {
      "needs_background": "light"
     },
     "output_type": "display_data"
    },
    {
     "data": {
      "image/png": "[encoded data removed]",
      "text/plain": [
       "<Figure size 109.44x151.2 with 1 Axes>"
      ]
     },
     "metadata": {
      "needs_background": "light"
     },
     "output_type": "display_data"
    },
    {
     "data": {
      "image/png": "[encoded data removed]",
      "text/plain": [
       "<Figure size 95.04x151.2 with 1 Axes>"
      ]
     },
     "metadata": {
      "needs_background": "light"
     },
     "output_type": "display_data"
    },
    {
     "data": {
      "image/png": "[encoded data removed]",
      "text/plain": [
       "<Figure size 123.84x129.6 with 1 Axes>"
      ]
     },
     "metadata": {
      "needs_background": "light"
     },
     "output_type": "display_data"
    },
    {
     "data": {
      "image/png": "[encoded data removed]",
      "text/plain": [
       "<Figure size 80.64x129.6 with 1 Axes>"
      ]
     },
     "metadata": {
      "needs_background": "light"
     },
     "output_type": "display_data"
    }
   ],
   "source": [
    "for option_idx, option in enumerate(reaction_options):\n",
    "    dfs = []\n",
    "    significant_AUs = df_emotions.index[df_emotions[f\"{option}_p\"] < p_threshold].to_list()\n",
    "    for AU in significant_AUs:\n",
    "        df = pd.DataFrame({option: df_reaction[option], 'increase': df_reaction[f'AU{AU}_activation_value'], 'AU': AU})\n",
    "        dfs.append(df)\n",
    "    df_option = pd.concat(dfs)\n",
    "    n_yes = np.sum(df_reaction[option] == True)\n",
    "    n_no = np.sum(df_reaction[option] == False)\n",
    "    df_option.loc[df_option[option] == True, option] = f\"Yes ({n_yes})\"\n",
    "    df_option.loc[df_option[option] == False, option] = f\"No ({n_no})\"\n",
    "\n",
    "    if option_idx in [0, 1]:\n",
    "        plt.figure(figsize = [0.2*len(significant_AUs)+0.72, 1.55])\n",
    "    elif option_idx in [2, 3]:\n",
    "        plt.figure(figsize = [0.2*len(significant_AUs)+0.72, 2.1])\n",
    "    elif option_idx in [4, 5]:\n",
    "        plt.figure(figsize = [0.2*len(significant_AUs)+0.72, 1.8])\n",
    "    sns.boxplot(data = df_option, x = 'AU', y = 'increase', hue = option, hue_order = [f\"Yes ({n_yes})\", f\"No ({n_no})\"], width = 0.6, palette='deep', showfliers=False, whis=0)#, split = True)#, scale='count')\n",
    "    plt.tick_params(axis='both', which='major', pad=1)\n",
    "    plt.xlabel(f\"AU\", labelpad=0)\n",
    "    plt.ylabel(f\"AU Activation Value\", labelpad=0)\n",
    "    if option_idx in [0, 1]:\n",
    "        plt.ylim([0, 1.5])\n",
    "        plt.yticks([0, 0.5, 1, 1.5])\n",
    "    elif option_idx in [2, 3]:\n",
    "        plt.ylim([0, 2.5])\n",
    "        plt.yticks([0, 0.5, 1, 1.5, 2, 2.5])\n",
    "    elif option_idx in [4, 5]:\n",
    "        plt.ylim([0, 2])\n",
    "        plt.yticks([0, 0.5, 1, 1.5, 2])\n",
    "    plt.tight_layout()\n",
    "    if option_idx in [3, 5]:\n",
    "        loc = 'upper center'\n",
    "    else:\n",
    "        loc = 'upper right'\n",
    "    plt.legend(loc = loc, handlelength=0.5, handletextpad=0.1, borderpad=0.05, labelspacing=0.2, borderaxespad=0.05,\n",
    "               bbox_to_anchor = [1, 1])\n",
    "    plt.savefig(os.path.join(figures_rootdir, f\"{option}_and_AU_activation_value.pdf\"), format='pdf', bbox_inches='tight')\n",
    "    plt.show()"
   ]
  },
  {
   "cell_type": "markdown",
   "id": "402b4ccf-9189-4a80-8734-f579e2a5035a",
   "metadata": {},
   "source": [
    "<p style=\"font-family: 'Times New Roman', Times, serif; font-size:24px; color: black;\">5.2 Automatic Annotation of User Preferences between Image Pairs Using AU4</p>"
   ]
  },
  {
   "cell_type": "code",
   "execution_count": 14,
   "id": "adverse-banks",
   "metadata": {},
   "outputs": [],
   "source": [
    "df_classification = pd.read_csv(os.path.join(results_rootdir, 'image_preference_binary_classification_based_on_ranking.csv'), dtype={'user_id': str})"
   ]
  },
  {
   "cell_type": "code",
   "execution_count": 15,
   "id": "committed-assignment",
   "metadata": {},
   "outputs": [],
   "source": [
    "summary_row = {}\n",
    "for col in df_classification:\n",
    "    if col == 'user_id':\n",
    "        summary_row[col] = 'All'\n",
    "    elif col.endswith('correct'):\n",
    "        summary_row[col] = df_classification[col].sum()\n",
    "    else:\n",
    "        summary_row[col] = np.unique(df_classification[col], return_counts=True)[0][np.argmax(np.unique(df_classification[col], return_counts=True)[1])]"
   ]
  },
  {
   "cell_type": "code",
   "execution_count": 16,
   "id": "radical-stability",
   "metadata": {},
   "outputs": [],
   "source": [
    "df_classification = pd.concat([df_classification, pd.DataFrame([summary_row])], ignore_index=True)"
   ]
  },
  {
   "cell_type": "code",
   "execution_count": 17,
   "id": "worst-canberra",
   "metadata": {},
   "outputs": [],
   "source": [
    "basic_metrics = ['CLIP_score', 'Aesthetic_score', 'BLIP_score', 'ImageReward_score', 'PickScore', 'HPS_V2_score']\n",
    "baseline_metrics = basic_metrics + ['ensemble_baseline_score']\n",
    "AU4_sel_metrics = baseline_metrics + ['AU4_valence_score']\n",
    "all_metrics = AU4_sel_metrics + [f'AU4_selected_{metric}' for metric in AU4_sel_metrics] + ['ensemble_ImageReward_AU4_score', 'ensemble_PickScore_AU4_score', 'ensemble_HPS_V2_AU4_score', 'ensemble_all_score']"
   ]
  },
  {
   "cell_type": "code",
   "execution_count": 18,
   "id": "lined-violin",
   "metadata": {},
   "outputs": [],
   "source": [
    "accuracies = {metric: df_classification[f'{metric}_n_correct'].iloc[-1] / (df_classification[f'{metric}_n_correct'].iloc[-1] + df_classification[f'{metric}_n_incorrect'].iloc[-1]) for metric in all_metrics}"
   ]
  },
  {
   "cell_type": "code",
   "execution_count": 19,
   "id": "proof-sailing",
   "metadata": {},
   "outputs": [
    {
     "data": {
      "text/plain": [
       "{'CLIP_score': 0.5749858517260894,\n",
       " 'Aesthetic_score': 0.499151103565365,\n",
       " 'BLIP_score': 0.499151103565365,\n",
       " 'ImageReward_score': 0.6044142614601019,\n",
       " 'PickScore': 0.6335597057159027,\n",
       " 'HPS_V2_score': 0.6194114318053198,\n",
       " 'ensemble_baseline_score': 0.6578947368421053,\n",
       " 'AU4_valence_score': 0.566213921901528,\n",
       " 'AU4_selected_CLIP_score': 0.6057866184448463,\n",
       " 'AU4_selected_Aesthetic_score': 0.5099457504520796,\n",
       " 'AU4_selected_BLIP_score': 0.5298372513562387,\n",
       " 'AU4_selected_ImageReward_score': 0.6311030741410488,\n",
       " 'AU4_selected_PickScore': 0.6256781193490054,\n",
       " 'AU4_selected_HPS_V2_score': 0.6292947558770343,\n",
       " 'AU4_selected_ensemble_baseline_score': 0.6708860759493671,\n",
       " 'AU4_selected_AU4_valence_score': 0.7486437613019892,\n",
       " 'ensemble_ImageReward_AU4_score': 0.6267685342388228,\n",
       " 'ensemble_PickScore_AU4_score': 0.653084323712507,\n",
       " 'ensemble_HPS_V2_AU4_score': 0.6544991511035654,\n",
       " 'ensemble_all_score': 0.668081494057725}"
      ]
     },
     "execution_count": 19,
     "metadata": {},
     "output_type": "execute_result"
    }
   ],
   "source": [
    "accuracies"
   ]
  },
  {
   "cell_type": "code",
   "execution_count": 20,
   "id": "naughty-airplane",
   "metadata": {},
   "outputs": [],
   "source": [
    "with open(os.path.join(results_rootdir, 'image_preference_binary_classification_based_on_ranking_AU4_correctness_heatmap.pkl'), 'rb') as f:\n",
    "    data = pkl.load(f)\n",
    "exp_decay_coef_list = data['exp_decay_coef_list']\n",
    "diff_threshold_list = data['diff_threshold_list']\n",
    "n_correct = data['n_correct']\n",
    "n_incorrect = data['n_incorrect']\n",
    "\n",
    "n_correct_grid = np.zeros([len(exp_decay_coef_list), len(diff_threshold_list)])\n",
    "n_incorrect_grid = np.zeros([len(exp_decay_coef_list), len(diff_threshold_list)])\n",
    "for i, exp_decay in enumerate(exp_decay_coef_list):\n",
    "    for j, diff_threshold in enumerate(diff_threshold_list):\n",
    "        n_correct_grid[i,j] = n_correct[(exp_decay, diff_threshold)]\n",
    "        n_incorrect_grid[i,j] = n_incorrect[(exp_decay, diff_threshold)]"
   ]
  },
  {
   "cell_type": "code",
   "execution_count": 21,
   "id": "constitutional-writing",
   "metadata": {},
   "outputs": [
    {
     "name": "stderr",
     "output_type": "stream",
     "text": [
      "<ipython-input-21-dc4da5be6f63>:2: RuntimeWarning: invalid value encountered in divide\n",
      "  heatmap[:,:,0] = np.nan_to_num(n_correct_grid / (n_correct_grid + n_incorrect_grid), nan=0.5)\n"
     ]
    },
    {
     "data": {
      "image/png": "[encoded data removed]",
      "text/plain": [
       "<Figure size 201.6x144 with 3 Axes>"
      ]
     },
     "metadata": {
      "needs_background": "light"
     },
     "output_type": "display_data"
    }
   ],
   "source": [
    "heatmap = np.ones((exp_decay_coef_list.size, diff_threshold_list.size, 3))\n",
    "heatmap[:,:,0] = np.nan_to_num(n_correct_grid / (n_correct_grid + n_incorrect_grid), nan=0.5)\n",
    "heatmap[:,:,1] = (n_correct_grid + n_incorrect_grid) / (n_correct_grid + n_incorrect_grid).max()\n",
    "\n",
    "heatmap = mcolors.hsv_to_rgb(heatmap)\n",
    "\n",
    "objs = n_correct_grid - 2 * n_incorrect_grid\n",
    "y, x = np.where(objs == np.nanmax(objs))\n",
    "plt.figure(figsize=[2.8, 2])\n",
    "img = plt.imshow(heatmap)\n",
    "plt.scatter([x + 0.2], [y - 0.3], marker='s', facecolors='none', edgecolors='#ff8000', s=5, linewidth=0.5)\n",
    "plt.xlabel('difference threshold', labelpad=2)\n",
    "plt.ylabel('exp. decay coef.', labelpad=2)\n",
    "plt.tick_params(axis='both', which='major', pad=0)\n",
    "plt.xticks(np.arange(len(diff_threshold_list))[::10], diff_threshold_list[::10].round(2))\n",
    "plt.yticks(np.arange(len(exp_decay_coef_list))[::5], exp_decay_coef_list[::5].round(2))\n",
    "plt.gca().xaxis.tick_top()\n",
    "plt.gca().xaxis.set_label_position('top')\n",
    "\n",
    "hue_colormap = mcolors.LinearSegmentedColormap.from_list('hue', [mcolors.hsv_to_rgb([h, 1, 1]) for h in np.linspace(0.5, 1, 256)], N=256)\n",
    "plt.register_cmap(cmap=hue_colormap)\n",
    "sm_hue = ScalarMappable(cmap=hue_colormap, norm = mcolors.Normalize(vmin = 0.5, vmax = 1.0))\n",
    "sm_hue.set_array([])\n",
    "cbar_ax_hue = plt.axes([0.13, 0.2, 0.77, 0.05])\n",
    "cbar_hue = plt.colorbar(sm_hue, cax=cbar_ax_hue, ticks = [0.5, 0.75, 1], orientation='horizontal')\n",
    "cbar_hue.ax.tick_params(pad=0)\n",
    "cbar_hue.set_label('accuracy', labelpad=-1)\n",
    "\n",
    "saturation_colormap = mcolors.LinearSegmentedColormap.from_list('saturation', [mcolors.hsv_to_rgb([mcolors.rgb_to_hsv(heatmap[y,x])[0][0], s, 1]) for s in np.linspace(0, 1, 256)], N=256)\n",
    "plt.register_cmap(cmap=saturation_colormap)\n",
    "sm_saturation = ScalarMappable(cmap=saturation_colormap, norm = mcolors.Normalize(vmin = 0.0, vmax = 1.0))\n",
    "sm_saturation.set_array([])\n",
    "cbar_ax_saturation = plt.axes([0.13, 0.0, 0.77, 0.05])\n",
    "cbar_saturation = plt.colorbar(sm_saturation, cax=cbar_ax_saturation, ticks = [0, 0.5, 1], orientation='horizontal')\n",
    "cbar_saturation.ax.tick_params(pad=0)\n",
    "cbar_saturation.set_label('proportion of selected data', labelpad=-1)\n",
    "plt.savefig(os.path.join(figures_rootdir, \"AU4_selected_classification_accuracy_heatmap.pdf\"), format='pdf', bbox_inches='tight')\n",
    "plt.show()"
   ]
  },
  {
   "cell_type": "markdown",
   "id": "33b66bd0-f610-405b-8372-6acc7018328f",
   "metadata": {},
   "source": [
    "<p style=\"font-family: 'Times New Roman', Times, serif; font-size:24px; color: black;\">5.3 Aspects of Evaluations Reflected</p>"
   ]
  },
  {
   "cell_type": "code",
   "execution_count": 22,
   "id": "accessory-jewel",
   "metadata": {},
   "outputs": [],
   "source": [
    "import statsmodels.api as sm"
   ]
  },
  {
   "cell_type": "code",
   "execution_count": 23,
   "id": "attractive-manitoba",
   "metadata": {},
   "outputs": [],
   "source": [
    "with open(os.path.join(prep_rootdir, 'AU4_excluded_participants.json'), 'r') as f:\n",
    "    excluded_participants = json.load(f)\n",
    "df_reaction = df_reaction[~np.isin(df_reaction['user_id'], excluded_participants)]"
   ]
  },
  {
   "cell_type": "code",
   "execution_count": 24,
   "id": "dated-stress",
   "metadata": {},
   "outputs": [],
   "source": [
    "basic_metrics = ['CLIP_score', 'Aesthetic_score', 'BLIP_score', 'ImageReward_score', 'PickScore', 'HPS_V2_score']\n",
    "df_reaction_standardized = df_reaction.copy()\n",
    "df_reaction_standardized['AU4_valence_score'] = - (1 - np.exp(-0.4 * df_reaction_standardized['AU4_activation_value']))\n",
    "for metric in basic_metrics + ['AU4_valence_score']:\n",
    "    df_reaction_standardized[metric] = (df_reaction_standardized[metric] - df_reaction_standardized[metric].mean()) / df_reaction_standardized[metric].std()\n",
    "df_reaction_standardized['ensemble_baseline_score'] = 0.1 * df_reaction_standardized['ImageReward_score'] + 0.6 * df_reaction_standardized['PickScore'] + 0.3 * df_reaction_standardized['HPS_V2_score']"
   ]
  },
  {
   "cell_type": "code",
   "execution_count": 25,
   "id": "stock-european",
   "metadata": {},
   "outputs": [],
   "source": [
    "df_reaction_filtered = df_reaction_standardized[np.logical_and(df_reaction_standardized['alignment_rating'] > 0, df_reaction_standardized['fidelity_rating'] > 0)]\n",
    "data_dict = defaultdict(list)\n",
    "for metric in basic_metrics + ['ensemble_baseline_score', 'AU4_valence_score']:\n",
    "    model = sm.OLS(df_reaction_filtered[metric], sm.add_constant(df_reaction_filtered[['alignment_rating', 'fidelity_rating']])).fit()\n",
    "    data_dict['metric'].append(metric)\n",
    "    data_dict['alignment_coef'].append(model.params.alignment_rating)\n",
    "    data_dict['alignment_pvalue'].append(model.pvalues.alignment_rating)\n",
    "    data_dict['fidelity_coef'].append(model.params.fidelity_rating)\n",
    "    data_dict['fidelity_pvalue'].append(model.pvalues.fidelity_rating)\n",
    "df_MLR = pd.DataFrame(data_dict)"
   ]
  },
  {
   "cell_type": "code",
   "execution_count": 26,
   "id": "hawaiian-prison",
   "metadata": {},
   "outputs": [
    {
     "data": {
      "text/html": [
       "<div>\n",
       "<style scoped>\n",
       "    .dataframe tbody tr th:only-of-type {\n",
       "        vertical-align: middle;\n",
       "    }\n",
       "\n",
       "    .dataframe tbody tr th {\n",
       "        vertical-align: top;\n",
       "    }\n",
       "\n",
       "    .dataframe thead th {\n",
       "        text-align: right;\n",
       "    }\n",
       "</style>\n",
       "<table border=\"1\" class=\"dataframe\">\n",
       "  <thead>\n",
       "    <tr style=\"text-align: right;\">\n",
       "      <th></th>\n",
       "      <th>metric</th>\n",
       "      <th>alignment_coef</th>\n",
       "      <th>alignment_pvalue</th>\n",
       "      <th>fidelity_coef</th>\n",
       "      <th>fidelity_pvalue</th>\n",
       "    </tr>\n",
       "  </thead>\n",
       "  <tbody>\n",
       "    <tr>\n",
       "      <th>0</th>\n",
       "      <td>CLIP_score</td>\n",
       "      <td>-0.031474</td>\n",
       "      <td>5.768449e-02</td>\n",
       "      <td>0.074724</td>\n",
       "      <td>0.000023</td>\n",
       "    </tr>\n",
       "    <tr>\n",
       "      <th>1</th>\n",
       "      <td>Aesthetic_score</td>\n",
       "      <td>-0.008706</td>\n",
       "      <td>6.011505e-01</td>\n",
       "      <td>0.018470</td>\n",
       "      <td>0.296958</td>\n",
       "    </tr>\n",
       "    <tr>\n",
       "      <th>2</th>\n",
       "      <td>BLIP_score</td>\n",
       "      <td>-0.019461</td>\n",
       "      <td>2.414323e-01</td>\n",
       "      <td>0.017186</td>\n",
       "      <td>0.330547</td>\n",
       "    </tr>\n",
       "    <tr>\n",
       "      <th>3</th>\n",
       "      <td>ImageReward_score</td>\n",
       "      <td>0.252673</td>\n",
       "      <td>3.714833e-57</td>\n",
       "      <td>-0.053017</td>\n",
       "      <td>0.001194</td>\n",
       "    </tr>\n",
       "    <tr>\n",
       "      <th>4</th>\n",
       "      <td>PickScore</td>\n",
       "      <td>0.153421</td>\n",
       "      <td>9.057920e-22</td>\n",
       "      <td>0.035437</td>\n",
       "      <td>0.035267</td>\n",
       "    </tr>\n",
       "    <tr>\n",
       "      <th>5</th>\n",
       "      <td>HPS_V2_score</td>\n",
       "      <td>0.069814</td>\n",
       "      <td>2.309354e-05</td>\n",
       "      <td>0.034861</td>\n",
       "      <td>0.046443</td>\n",
       "    </tr>\n",
       "    <tr>\n",
       "      <th>6</th>\n",
       "      <td>ensemble_baseline_score</td>\n",
       "      <td>0.138264</td>\n",
       "      <td>6.615911e-24</td>\n",
       "      <td>0.026419</td>\n",
       "      <td>0.066660</td>\n",
       "    </tr>\n",
       "    <tr>\n",
       "      <th>7</th>\n",
       "      <td>AU4_valence_score</td>\n",
       "      <td>0.035740</td>\n",
       "      <td>2.888605e-02</td>\n",
       "      <td>0.075050</td>\n",
       "      <td>0.000016</td>\n",
       "    </tr>\n",
       "  </tbody>\n",
       "</table>\n",
       "</div>"
      ],
      "text/plain": [
       "                    metric  alignment_coef  alignment_pvalue  fidelity_coef  \\\n",
       "0               CLIP_score       -0.031474      5.768449e-02       0.074724   \n",
       "1          Aesthetic_score       -0.008706      6.011505e-01       0.018470   \n",
       "2               BLIP_score       -0.019461      2.414323e-01       0.017186   \n",
       "3        ImageReward_score        0.252673      3.714833e-57      -0.053017   \n",
       "4                PickScore        0.153421      9.057920e-22       0.035437   \n",
       "5             HPS_V2_score        0.069814      2.309354e-05       0.034861   \n",
       "6  ensemble_baseline_score        0.138264      6.615911e-24       0.026419   \n",
       "7        AU4_valence_score        0.035740      2.888605e-02       0.075050   \n",
       "\n",
       "   fidelity_pvalue  \n",
       "0         0.000023  \n",
       "1         0.296958  \n",
       "2         0.330547  \n",
       "3         0.001194  \n",
       "4         0.035267  \n",
       "5         0.046443  \n",
       "6         0.066660  \n",
       "7         0.000016  "
      ]
     },
     "execution_count": 26,
     "metadata": {},
     "output_type": "execute_result"
    }
   ],
   "source": [
    "df_MLR"
   ]
  }
 ],
 "metadata": {
  "kernelspec": {
   "display_name": "Python 3",
   "language": "python",
   "name": "python3"
  },
  "language_info": {
   "codemirror_mode": {
    "name": "ipython",
    "version": 3
   },
   "file_extension": ".py",
   "mimetype": "text/x-python",
   "name": "python",
   "nbconvert_exporter": "python",
   "pygments_lexer": "ipython3",
   "version": "3.9.1"
  }
 },
 "nbformat": 4,
 "nbformat_minor": 5
}
